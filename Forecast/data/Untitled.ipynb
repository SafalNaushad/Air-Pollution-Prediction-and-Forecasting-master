{
 "cells": [
  {
   "cell_type": "code",
   "execution_count": 9,
   "metadata": {},
   "outputs": [],
   "source": [
    "library(ggplot2)\n",
    "library(prophet)\n",
    "library(tidyverse)\n",
    "library(cowplot)\n",
    "library(MLmetrics)"
   ]
  },
  {
   "cell_type": "code",
   "execution_count": 11,
   "metadata": {},
   "outputs": [
    {
     "name": "stderr",
     "output_type": "stream",
     "text": [
      "Parsed with column specification:\n",
      "cols(\n",
      "  dates = col_date(format = \"\"),\n",
      "  Year = col_double(),\n",
      "  Month = col_double(),\n",
      "  Day = col_double(),\n",
      "  Hour = col_double(),\n",
      "  AQI = col_double()\n",
      ")\n"
     ]
    }
   ],
   "source": [
    "c1 <- read_csv(\"org_hy.csv\")"
   ]
  },
  {
   "cell_type": "code",
   "execution_count": 12,
   "metadata": {},
   "outputs": [
    {
     "data": {
      "image/png": "[encoded data removed]",
      "text/plain": [
       "plot without title"
      ]
     },
     "metadata": {},
     "output_type": "display_data"
    }
   ],
   "source": [
    "qplot(dates, AQI, data = c1)"
   ]
  },
  {
   "cell_type": "code",
   "execution_count": 13,
   "metadata": {},
   "outputs": [],
   "source": [
    "#store date to ds and log of AQi to y\n",
    "ds <- c1$dates\n",
    "y <- c1$AQI"
   ]
  },
  {
   "cell_type": "code",
   "execution_count": 14,
   "metadata": {},
   "outputs": [],
   "source": [
    "df <- data.frame(ds, y)"
   ]
  },
  {
   "cell_type": "code",
   "execution_count": 15,
   "metadata": {},
   "outputs": [
    {
     "name": "stderr",
     "output_type": "stream",
     "text": [
      "Disabling daily seasonality. Run prophet with daily.seasonality=TRUE to override this.\n"
     ]
    }
   ],
   "source": [
    "m <- prophet(df)"
   ]
  },
  {
   "cell_type": "code",
   "execution_count": 17,
   "metadata": {},
   "outputs": [],
   "source": [
    "future <- make_future_dataframe(m, periods = 14)"
   ]
  },
  {
   "cell_type": "code",
   "execution_count": 18,
   "metadata": {},
   "outputs": [
    {
     "data": {
      "text/html": [
       "<table>\n",
       "<thead><tr><th></th><th scope=col>ds</th></tr></thead>\n",
       "<tbody>\n",
       "\t<tr><th scope=row>34816</th><td>2020-03-10</td></tr>\n",
       "\t<tr><th scope=row>34817</th><td>2020-03-11</td></tr>\n",
       "\t<tr><th scope=row>34818</th><td>2020-03-12</td></tr>\n",
       "\t<tr><th scope=row>34819</th><td>2020-03-13</td></tr>\n",
       "\t<tr><th scope=row>34820</th><td>2020-03-14</td></tr>\n",
       "\t<tr><th scope=row>34821</th><td>2020-03-15</td></tr>\n",
       "</tbody>\n",
       "</table>\n"
      ],
      "text/latex": [
       "\\begin{tabular}{r|l}\n",
       "  & ds\\\\\n",
       "\\hline\n",
       "\t34816 & 2020-03-10\\\\\n",
       "\t34817 & 2020-03-11\\\\\n",
       "\t34818 & 2020-03-12\\\\\n",
       "\t34819 & 2020-03-13\\\\\n",
       "\t34820 & 2020-03-14\\\\\n",
       "\t34821 & 2020-03-15\\\\\n",
       "\\end{tabular}\n"
      ],
      "text/markdown": [
       "\n",
       "| <!--/--> | ds |\n",
       "|---|---|\n",
       "| 34816 | 2020-03-10 |\n",
       "| 34817 | 2020-03-11 |\n",
       "| 34818 | 2020-03-12 |\n",
       "| 34819 | 2020-03-13 |\n",
       "| 34820 | 2020-03-14 |\n",
       "| 34821 | 2020-03-15 |\n",
       "\n"
      ],
      "text/plain": [
       "      ds        \n",
       "34816 2020-03-10\n",
       "34817 2020-03-11\n",
       "34818 2020-03-12\n",
       "34819 2020-03-13\n",
       "34820 2020-03-14\n",
       "34821 2020-03-15"
      ]
     },
     "metadata": {},
     "output_type": "display_data"
    }
   ],
   "source": [
    "tail(future)"
   ]
  },
  {
   "cell_type": "code",
   "execution_count": 19,
   "metadata": {},
   "outputs": [],
   "source": [
    "forecast <- predict(m, future)"
   ]
  },
  {
   "cell_type": "code",
   "execution_count": 20,
   "metadata": {},
   "outputs": [
    {
     "data": {
      "text/html": [
       "<table>\n",
       "<thead><tr><th></th><th scope=col>ds</th><th scope=col>yhat</th><th scope=col>yhat_lower</th><th scope=col>yhat_upper</th></tr></thead>\n",
       "<tbody>\n",
       "\t<tr><th scope=row>34816</th><td>2020-03-10</td><td>107.2613  </td><td>70.66739  </td><td>143.2560  </td></tr>\n",
       "\t<tr><th scope=row>34817</th><td>2020-03-11</td><td>111.3607  </td><td>73.54630  </td><td>148.3775  </td></tr>\n",
       "\t<tr><th scope=row>34818</th><td>2020-03-12</td><td>111.7641  </td><td>73.38325  </td><td>150.1901  </td></tr>\n",
       "\t<tr><th scope=row>34819</th><td>2020-03-13</td><td>111.5753  </td><td>77.96613  </td><td>148.0044  </td></tr>\n",
       "\t<tr><th scope=row>34820</th><td>2020-03-14</td><td>111.7396  </td><td>77.95147  </td><td>148.1321  </td></tr>\n",
       "\t<tr><th scope=row>34821</th><td>2020-03-15</td><td>112.8920  </td><td>74.74249  </td><td>147.8389  </td></tr>\n",
       "</tbody>\n",
       "</table>\n"
      ],
      "text/latex": [
       "\\begin{tabular}{r|llll}\n",
       "  & ds & yhat & yhat\\_lower & yhat\\_upper\\\\\n",
       "\\hline\n",
       "\t34816 & 2020-03-10 & 107.2613   & 70.66739   & 143.2560  \\\\\n",
       "\t34817 & 2020-03-11 & 111.3607   & 73.54630   & 148.3775  \\\\\n",
       "\t34818 & 2020-03-12 & 111.7641   & 73.38325   & 150.1901  \\\\\n",
       "\t34819 & 2020-03-13 & 111.5753   & 77.96613   & 148.0044  \\\\\n",
       "\t34820 & 2020-03-14 & 111.7396   & 77.95147   & 148.1321  \\\\\n",
       "\t34821 & 2020-03-15 & 112.8920   & 74.74249   & 147.8389  \\\\\n",
       "\\end{tabular}\n"
      ],
      "text/markdown": [
       "\n",
       "| <!--/--> | ds | yhat | yhat_lower | yhat_upper |\n",
       "|---|---|---|---|---|\n",
       "| 34816 | 2020-03-10 | 107.2613   | 70.66739   | 143.2560   |\n",
       "| 34817 | 2020-03-11 | 111.3607   | 73.54630   | 148.3775   |\n",
       "| 34818 | 2020-03-12 | 111.7641   | 73.38325   | 150.1901   |\n",
       "| 34819 | 2020-03-13 | 111.5753   | 77.96613   | 148.0044   |\n",
       "| 34820 | 2020-03-14 | 111.7396   | 77.95147   | 148.1321   |\n",
       "| 34821 | 2020-03-15 | 112.8920   | 74.74249   | 147.8389   |\n",
       "\n"
      ],
      "text/plain": [
       "      ds         yhat     yhat_lower yhat_upper\n",
       "34816 2020-03-10 107.2613 70.66739   143.2560  \n",
       "34817 2020-03-11 111.3607 73.54630   148.3775  \n",
       "34818 2020-03-12 111.7641 73.38325   150.1901  \n",
       "34819 2020-03-13 111.5753 77.96613   148.0044  \n",
       "34820 2020-03-14 111.7396 77.95147   148.1321  \n",
       "34821 2020-03-15 112.8920 74.74249   147.8389  "
      ]
     },
     "metadata": {},
     "output_type": "display_data"
    }
   ],
   "source": [
    "tail(forecast[c('ds', 'yhat', 'yhat_lower', 'yhat_upper')])"
   ]
  },
  {
   "cell_type": "code",
   "execution_count": 21,
   "metadata": {},
   "outputs": [
    {
     "data": {
      "image/png": "[encoded data removed]",
      "text/plain": [
       "plot without title"
      ]
     },
     "metadata": {},
     "output_type": "display_data"
    }
   ],
   "source": [
    "prophet_plot_components(m, forecast)"
   ]
  },
  {
   "cell_type": "code",
   "execution_count": 22,
   "metadata": {},
   "outputs": [
    {
     "name": "stderr",
     "output_type": "stream",
     "text": [
      "Warning message in y_true - y_pred:\n",
      "\"longer object length is not a multiple of shorter object length\""
     ]
    },
    {
     "data": {
      "text/html": [
       "28.2934591824471"
      ],
      "text/latex": [
       "28.2934591824471"
      ],
      "text/markdown": [
       "28.2934591824471"
      ],
      "text/plain": [
       "[1] 28.29346"
      ]
     },
     "metadata": {},
     "output_type": "display_data"
    }
   ],
   "source": [
    "RMSE(forecast$yhat, y)"
   ]
  },
  {
   "cell_type": "code",
   "execution_count": null,
   "metadata": {},
   "outputs": [],
   "source": [
    "plot(m, forecast)"
   ]
  },
  {
   "cell_type": "code",
   "execution_count": null,
   "metadata": {},
   "outputs": [],
   "source": []
  }
 ],
 "metadata": {
  "kernelspec": {
   "display_name": "R",
   "language": "R",
   "name": "ir"
  },
  "language_info": {
   "codemirror_mode": "r",
   "file_extension": ".r",
   "mimetype": "text/x-r-source",
   "name": "R",
   "pygments_lexer": "r",
   "version": "3.6.1"
  }
 },
 "nbformat": 4,
 "nbformat_minor": 4
}
